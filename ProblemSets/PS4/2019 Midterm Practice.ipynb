{
 "cells": [
  {
   "cell_type": "code",
   "execution_count": 28,
   "metadata": {},
   "outputs": [
    {
     "data": {
      "text/html": [
       "<div>\n",
       "<style scoped>\n",
       "    .dataframe tbody tr th:only-of-type {\n",
       "        vertical-align: middle;\n",
       "    }\n",
       "\n",
       "    .dataframe tbody tr th {\n",
       "        vertical-align: top;\n",
       "    }\n",
       "\n",
       "    .dataframe thead th {\n",
       "        text-align: right;\n",
       "    }\n",
       "</style>\n",
       "<table border=\"1\" class=\"dataframe\">\n",
       "  <thead>\n",
       "    <tr style=\"text-align: right;\">\n",
       "      <th></th>\n",
       "      <th>sick</th>\n",
       "      <th>age</th>\n",
       "      <th>children</th>\n",
       "      <th>avgtemp_winter</th>\n",
       "    </tr>\n",
       "  </thead>\n",
       "  <tbody>\n",
       "    <tr>\n",
       "      <td>0</td>\n",
       "      <td>1.67</td>\n",
       "      <td>57.47</td>\n",
       "      <td>3.04</td>\n",
       "      <td>54.10</td>\n",
       "    </tr>\n",
       "    <tr>\n",
       "      <td>1</td>\n",
       "      <td>0.71</td>\n",
       "      <td>26.77</td>\n",
       "      <td>1.20</td>\n",
       "      <td>36.54</td>\n",
       "    </tr>\n",
       "    <tr>\n",
       "      <td>2</td>\n",
       "      <td>1.39</td>\n",
       "      <td>41.85</td>\n",
       "      <td>2.31</td>\n",
       "      <td>32.38</td>\n",
       "    </tr>\n",
       "    <tr>\n",
       "      <td>3</td>\n",
       "      <td>1.37</td>\n",
       "      <td>51.27</td>\n",
       "      <td>2.46</td>\n",
       "      <td>52.94</td>\n",
       "    </tr>\n",
       "    <tr>\n",
       "      <td>4</td>\n",
       "      <td>1.45</td>\n",
       "      <td>44.22</td>\n",
       "      <td>2.72</td>\n",
       "      <td>45.90</td>\n",
       "    </tr>\n",
       "  </tbody>\n",
       "</table>\n",
       "</div>"
      ],
      "text/plain": [
       "   sick    age  children  avgtemp_winter\n",
       "0  1.67  57.47      3.04           54.10\n",
       "1  0.71  26.77      1.20           36.54\n",
       "2  1.39  41.85      2.31           32.38\n",
       "3  1.37  51.27      2.46           52.94\n",
       "4  1.45  44.22      2.72           45.90"
      ]
     },
     "execution_count": 28,
     "metadata": {},
     "output_type": "execute_result"
    }
   ],
   "source": [
    "import numpy as np\n",
    "import pandas as pd\n",
    "import scipy.stats as sts\n",
    "import scipy.optimize as opt\n",
    "import matplotlib.pyplot as plt\n",
    "df = pd.read_csv('data/sick.txt',sep=',', skiprows = 1, names=[\"sick\",\"age\",\"children\",\"avgtemp_winter\"])\n",
    "df.head()"
   ]
  },
  {
   "cell_type": "code",
   "execution_count": 6,
   "metadata": {},
   "outputs": [
    {
     "data": {
      "text/html": [
       "<div>\n",
       "<style scoped>\n",
       "    .dataframe tbody tr th:only-of-type {\n",
       "        vertical-align: middle;\n",
       "    }\n",
       "\n",
       "    .dataframe tbody tr th {\n",
       "        vertical-align: top;\n",
       "    }\n",
       "\n",
       "    .dataframe thead th {\n",
       "        text-align: right;\n",
       "    }\n",
       "</style>\n",
       "<table border=\"1\" class=\"dataframe\">\n",
       "  <thead>\n",
       "    <tr style=\"text-align: right;\">\n",
       "      <th></th>\n",
       "      <th>sick</th>\n",
       "      <th>age</th>\n",
       "      <th>children</th>\n",
       "      <th>avgtemp_winter</th>\n",
       "    </tr>\n",
       "  </thead>\n",
       "  <tbody>\n",
       "    <tr>\n",
       "      <td>0</td>\n",
       "      <td>1.67</td>\n",
       "      <td>57.47</td>\n",
       "      <td>3.04</td>\n",
       "      <td>54.10</td>\n",
       "    </tr>\n",
       "    <tr>\n",
       "      <td>1</td>\n",
       "      <td>0.71</td>\n",
       "      <td>26.77</td>\n",
       "      <td>1.20</td>\n",
       "      <td>36.54</td>\n",
       "    </tr>\n",
       "    <tr>\n",
       "      <td>2</td>\n",
       "      <td>1.39</td>\n",
       "      <td>41.85</td>\n",
       "      <td>2.31</td>\n",
       "      <td>32.38</td>\n",
       "    </tr>\n",
       "    <tr>\n",
       "      <td>3</td>\n",
       "      <td>1.37</td>\n",
       "      <td>51.27</td>\n",
       "      <td>2.46</td>\n",
       "      <td>52.94</td>\n",
       "    </tr>\n",
       "    <tr>\n",
       "      <td>4</td>\n",
       "      <td>1.45</td>\n",
       "      <td>44.22</td>\n",
       "      <td>2.72</td>\n",
       "      <td>45.90</td>\n",
       "    </tr>\n",
       "    <tr>\n",
       "      <td>5</td>\n",
       "      <td>0.62</td>\n",
       "      <td>44.67</td>\n",
       "      <td>1.20</td>\n",
       "      <td>68.60</td>\n",
       "    </tr>\n",
       "    <tr>\n",
       "      <td>6</td>\n",
       "      <td>1.06</td>\n",
       "      <td>27.92</td>\n",
       "      <td>1.84</td>\n",
       "      <td>29.42</td>\n",
       "    </tr>\n",
       "    <tr>\n",
       "      <td>7</td>\n",
       "      <td>1.29</td>\n",
       "      <td>44.87</td>\n",
       "      <td>2.40</td>\n",
       "      <td>50.49</td>\n",
       "    </tr>\n",
       "    <tr>\n",
       "      <td>8</td>\n",
       "      <td>1.05</td>\n",
       "      <td>53.68</td>\n",
       "      <td>1.65</td>\n",
       "      <td>55.12</td>\n",
       "    </tr>\n",
       "    <tr>\n",
       "      <td>9</td>\n",
       "      <td>1.18</td>\n",
       "      <td>39.63</td>\n",
       "      <td>1.96</td>\n",
       "      <td>37.30</td>\n",
       "    </tr>\n",
       "  </tbody>\n",
       "</table>\n",
       "</div>"
      ],
      "text/plain": [
       "   sick    age  children  avgtemp_winter\n",
       "0  1.67  57.47      3.04           54.10\n",
       "1  0.71  26.77      1.20           36.54\n",
       "2  1.39  41.85      2.31           32.38\n",
       "3  1.37  51.27      2.46           52.94\n",
       "4  1.45  44.22      2.72           45.90\n",
       "5  0.62  44.67      1.20           68.60\n",
       "6  1.06  27.92      1.84           29.42\n",
       "7  1.29  44.87      2.40           50.49\n",
       "8  1.05  53.68      1.65           55.12\n",
       "9  1.18  39.63      1.96           37.30"
      ]
     },
     "execution_count": 6,
     "metadata": {},
     "output_type": "execute_result"
    }
   ],
   "source": [
    "df_ = df.loc[:9].copy()\n",
    "df_"
   ]
  },
  {
   "cell_type": "code",
   "execution_count": 52,
   "metadata": {},
   "outputs": [],
   "source": []
  },
  {
   "cell_type": "code",
   "execution_count": 15,
   "metadata": {},
   "outputs": [],
   "source": [
    "def norm_lik(sick,age,children,avgtemp_winter,beta0,beta1,beta2,beta3,sigma):\n",
    "    ep = sick - beta0 - beta1 * age - beta2 * children - beta3 * avgtemp_winter\n",
    "    pdf_vals = (1/(sigma * np.sqrt(2 * np.pi)) *\n",
    "                np.exp( - (ep - 0)**2 / (2 * sigma**2)))\n",
    "    log_pdf_vals = np.log(pdf_vals)\n",
    "    log_sum = log_pdf_vals.sum()\n",
    "    return log_sum"
   ]
  },
  {
   "cell_type": "code",
   "execution_count": 16,
   "metadata": {},
   "outputs": [
    {
     "data": {
      "text/plain": [
       "-146.37547052894547"
      ]
     },
     "execution_count": 16,
     "metadata": {},
     "output_type": "execute_result"
    }
   ],
   "source": [
    "sick, age, children, temp = df[\"sick\"], df[\"age\"], df[\"children\"], df[\"avgtemp_winter\"]\n",
    "norm_lik(sick,age,children,temp,1,0,0,0,0.5)"
   ]
  },
  {
   "cell_type": "code",
   "execution_count": 19,
   "metadata": {},
   "outputs": [
    {
     "data": {
      "text/plain": [
       "0.5042224124392232"
      ]
     },
     "execution_count": 19,
     "metadata": {},
     "output_type": "execute_result"
    }
   ],
   "source": [
    "sick, age, children, temp = df[\"sick\"], df[\"age\"], df[\"children\"], df[\"avgtemp_winter\"]\n",
    "sig = sick.std()\n",
    "sig"
   ]
  },
  {
   "cell_type": "code",
   "execution_count": 20,
   "metadata": {},
   "outputs": [],
   "source": [
    "def crit_new(params,*args):\n",
    "    beta0,beta1,beta2,beta3,sigma = params\n",
    "    sick,age,children,temp = args\n",
    "    log_mle = norm_lik(sick,age,child,temp,beta0,beta1,beta2,beta3,abs(sigma))\n",
    "    return -log_mle"
   ]
  },
  {
   "cell_type": "code",
   "execution_count": 25,
   "metadata": {},
   "outputs": [
    {
     "name": "stderr",
     "output_type": "stream",
     "text": [
      "/Users/zhenyuan/opt/anaconda3/lib/python3.7/site-packages/pandas/core/series.py:853: RuntimeWarning: divide by zero encountered in log\n",
      "  result = getattr(ufunc, method)(*inputs, **kwargs)\n"
     ]
    },
    {
     "name": "stdout",
     "output_type": "stream",
     "text": [
      "beta0 = 0.2516461439097104\n",
      "beta1 = 0.012933345572030876\n",
      "beta2 = 0.4005020423853474\n",
      "beta3 = -0.00999166192686597\n",
      "sigma = 0.00301773538018628\n"
     ]
    },
    {
     "data": {
      "text/plain": [
       "      fun: -876.8650484867442\n",
       " hess_inv: array([[ 9.91259681e-07,  7.51745259e-09, -1.61449981e-07,\n",
       "        -2.21873828e-08, -3.02411022e-10],\n",
       "       [ 7.51745259e-09,  4.36559374e-09, -4.00183674e-08,\n",
       "        -2.69684300e-09,  1.60243700e-10],\n",
       "       [-1.61449981e-07, -4.00183674e-08,  4.15949015e-07,\n",
       "         2.49045152e-08, -2.54690637e-09],\n",
       "       [-2.21873828e-08, -2.69684300e-09,  2.49045152e-08,\n",
       "         2.05530488e-09, -8.14004542e-11],\n",
       "       [-3.02411022e-10,  1.60243700e-10, -2.54690637e-09,\n",
       "        -8.14004542e-11,  2.30419784e-08]])\n",
       "      jac: array([ 1.26649475, 55.33101654,  1.05096436, 78.84306335,  2.33837891])\n",
       "  message: 'Desired error not necessarily achieved due to precision loss.'\n",
       "     nfev: 1013\n",
       "      nit: 36\n",
       "     njev: 142\n",
       "   status: 2\n",
       "  success: False\n",
       "        x: array([ 0.25164614,  0.01293335,  0.40050204, -0.00999166,  0.00301774])"
      ]
     },
     "execution_count": 25,
     "metadata": {},
     "output_type": "execute_result"
    }
   ],
   "source": [
    "\n",
    "\n",
    "params_init = np.array([1,0,0,0,sig])\n",
    "mle_agrs_init = (sick, age, children, temp)\n",
    "result = opt.minimize(crit_new, params_init, args = mle_agrs_init)\n",
    "beta0_mle,beta1_mle,beta2_mle,beta3_mle,sigma_mle = result.x\n",
    "print(\"beta0 =\",beta0_mle)\n",
    "print(\"beta1 =\",beta1_mle)\n",
    "print(\"beta2 =\",beta2_mle)\n",
    "print(\"beta3 =\",beta3_mle)\n",
    "print(\"sigma =\",sigma_mle)\n",
    "\n",
    "result"
   ]
  },
  {
   "cell_type": "code",
   "execution_count": null,
   "metadata": {},
   "outputs": [],
   "source": []
  },
  {
   "cell_type": "code",
   "execution_count": null,
   "metadata": {},
   "outputs": [],
   "source": []
  },
  {
   "cell_type": "code",
   "execution_count": 25,
   "metadata": {},
   "outputs": [],
   "source": [
    "import sympy as sy\n",
    "import numpy as np\n",
    "import math\n",
    "import matplotlib.pyplot as plt"
   ]
  },
  {
   "cell_type": "code",
   "execution_count": 26,
   "metadata": {},
   "outputs": [],
   "source": [
    "sigma = 1.8\n",
    "x = sy.symbols('x')\n",
    "mu_x = x**(-sigma)\n",
    "mu_x\n",
    "mu = sy.lambdify(x,mu_x,'numpy')\n",
    "xvals = np.linspace(0.7,5,100)\n",
    "result = mu(xvals)"
   ]
  },
  {
   "cell_type": "code",
   "execution_count": 27,
   "metadata": {},
   "outputs": [
    {
     "data": {
      "image/png": "[encoded data removed]",
      "text/plain": [
       "<Figure size 432x288 with 1 Axes>"
      ]
     },
     "metadata": {
      "needs_background": "light"
     },
     "output_type": "display_data"
    }
   ],
   "source": [
    "plt.plot(xvals,result)\n",
    "plt.show()"
   ]
  },
  {
   "cell_type": "code",
   "execution_count": 28,
   "metadata": {},
   "outputs": [
    {
     "data": {
      "text/plain": [
       "-1.8592010790841615"
      ]
     },
     "execution_count": 28,
     "metadata": {},
     "output_type": "execute_result"
    }
   ],
   "source": [
    "from sympy.abc import r,w,a,b,t\n",
    "def dMu_c(bt,rt,wt,bt1,sigma):\n",
    "    f = sy.lambdify((a,b,r,w,t), sy.diff(((1+b)*a + r - w)**(-t),a))\n",
    "    return f(bt,rt,wt,bt1,sigma)\n",
    "dMu_c(bt_,rt_,wt_,bt1_,sigma_)"
   ]
  },
  {
   "cell_type": "code",
   "execution_count": 52,
   "metadata": {},
   "outputs": [],
   "source": [
    "rt = sy.symbols('r_t')\n",
    "bt = sy.symbols('b_t')\n",
    "wt = sy.symbols('w_t')\n",
    "bt1 = sy.symbols('b_t+1')\n",
    "sigma = sy.symbols('sigma')\n",
    "\n",
    "ux = sy.diff(((1+rt)*bt + wt - bt1)**(-sigma),bt)\n",
    "#-(sigma*(rt+1)*(bt*(rt+1)-bt1+wt)**(-sigma))/(bt*(rt+1)-bt1 +wt)"
   ]
  },
  {
   "cell_type": "code",
   "execution_count": 30,
   "metadata": {},
   "outputs": [
    {
     "data": {
      "text/plain": [
       "-1.8592010790841615"
      ]
     },
     "execution_count": 30,
     "metadata": {},
     "output_type": "execute_result"
    }
   ],
   "source": [
    "def dMu_c(bt,rt,wt,bt1,sigma):\n",
    "    u_x = -(sigma*(rt+1)*(bt*(rt+1)-bt1+wt)**(-sigma))/(bt*(rt+1)-bt1 +wt)\n",
    "    return u_x\n",
    "\n",
    "bt_ = 3.3\n",
    "rt_ = 0.03\n",
    "bt1_ = 3.4\n",
    "wt_ = 1\n",
    "sigma_ =1.8\n",
    "\n",
    "dMu_c(bt_,rt_,wt_,bt1_,sigma_)\n",
    "    "
   ]
  },
  {
   "cell_type": "code",
   "execution_count": 39,
   "metadata": {},
   "outputs": [
    {
     "name": "stdout",
     "output_type": "stream",
     "text": [
      "-0.7123542921746638\n",
      "-0.7123551244865578\n",
      "-0.07123543004969313\n"
     ]
    }
   ],
   "source": [
    "def dMu_c_approx(bt,rt,wt,bt1,sigma,h):\n",
    "    ux = (((1+rt)*(bt+h) + wt -bt1)**(-sigma) - ((1+rt)*(bt-h) + wt -bt1)**(-sigma))/(2*h1)\n",
    "    return ux\n",
    "\n",
    "_bt = 1\n",
    "_rt = 0.04\n",
    "_bt1 = 0.8\n",
    "_wt = 1.2\n",
    "_sigma =2.2\n",
    "h1 = 0.001\n",
    "h2 = 0.0001\n",
    "print(dMu_c(_bt,_rt,_wt,_bt1,_sigma))\n",
    "print(dMu_c_approx(_bt,_rt,_wt,_bt1,_sigma,h1))\n",
    "print(dMu_c_approx(_bt,_rt,_wt,_bt1,_sigma,h2))"
   ]
  },
  {
   "cell_type": "code",
   "execution_count": 32,
   "metadata": {},
   "outputs": [
    {
     "data": {
      "text/latex": [
       "$\\displaystyle 2 \\pi \\cos{\\left(x y \\right)}$"
      ],
      "text/plain": [
       "2*pi*cos(x*y)"
      ]
     },
     "execution_count": 32,
     "metadata": {},
     "output_type": "execute_result"
    }
   ],
   "source": [
    "x = sy.symbols('x')\n",
    "y = sy.symbols('y')\n",
    "f = (2 * sy.pi * sy.cos(x*y)) \n",
    "f"
   ]
  },
  {
   "cell_type": "code",
   "execution_count": 217,
   "metadata": {},
   "outputs": [
    {
     "data": {
      "text/plain": [
       "6.032927837471992"
      ]
     },
     "execution_count": 217,
     "metadata": {},
     "output_type": "execute_result"
    }
   ],
   "source": [
    "g = sy.lambdify((x,y), f)\n",
    "g(2,3)"
   ]
  },
  {
   "cell_type": "code",
   "execution_count": null,
   "metadata": {},
   "outputs": [],
   "source": []
  },
  {
   "cell_type": "code",
   "execution_count": null,
   "metadata": {},
   "outputs": [],
   "source": []
  }
 ],
 "metadata": {
  "kernelspec": {
   "display_name": "Python 3",
   "language": "python",
   "name": "python3"
  },
  "language_info": {
   "codemirror_mode": {
    "name": "ipython",
    "version": 3
   },
   "file_extension": ".py",
   "mimetype": "text/x-python",
   "name": "python",
   "nbconvert_exporter": "python",
   "pygments_lexer": "ipython3",
   "version": "3.7.4"
  }
 },
 "nbformat": 4,
 "nbformat_minor": 2
}
