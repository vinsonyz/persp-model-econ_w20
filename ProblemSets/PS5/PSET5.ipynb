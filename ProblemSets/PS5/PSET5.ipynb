{
 "cells": [
  {
   "cell_type": "markdown",
   "metadata": {},
   "source": [
    "# Perspectives PSet 5"
   ]
  },
  {
   "cell_type": "markdown",
   "metadata": {},
   "source": [
    "## Question 1"
   ]
  },
  {
   "cell_type": "code",
   "execution_count": 37,
   "metadata": {},
   "outputs": [],
   "source": [
    "import numpy as np\n",
    "import pandas as pd\n",
    "import scipy.stats as sts\n",
    "import numpy.linalg as lin\n",
    "import scipy.integrate as intgr\n",
    "import scipy.optimize as opt\n",
    "import matplotlib.pyplot as plt\n",
    "import warnings\n",
    "warnings.filterwarnings(\"ignore\")"
   ]
  },
  {
   "cell_type": "code",
   "execution_count": 38,
   "metadata": {},
   "outputs": [],
   "source": [
    "# Load income data\n",
    "pts = np.loadtxt('data/incomes.txt')"
   ]
  },
  {
   "cell_type": "markdown",
   "metadata": {},
   "source": [
    "## a)"
   ]
  },
  {
   "cell_type": "code",
   "execution_count": 39,
   "metadata": {},
   "outputs": [
    {
     "data": {
      "image/png": "[encoded data removed]",
      "text/plain": [
       "<Figure size 432x288 with 1 Axes>"
      ]
     },
     "metadata": {
      "needs_background": "light"
     },
     "output_type": "display_data"
    }
   ],
   "source": [
    "num_bins = 30\n",
    "plt.hist(pts,num_bins,density=True,edgecolor = \"k\")\n",
    "plt.title('Annual Income of Macss Graduates from 2018 to 2020', fontsize=20)\n",
    "plt.xlabel('Annual Income')\n",
    "plt.ylabel('percentage of Income')\n",
    "plt.xlim([1e-10, 150000])\n",
    "plt.show()"
   ]
  },
  {
   "cell_type": "markdown",
   "metadata": {},
   "source": [
    "## b)"
   ]
  },
  {
   "cell_type": "code",
   "execution_count": 40,
   "metadata": {},
   "outputs": [],
   "source": [
    "def trunc_lognorm_pdf(xvals, mu, sigma, cut_lb, cut_ub):\n",
    "\n",
    "    if cut_ub == 'None' and cut_lb == 'None':\n",
    "        prob_notcut = 1.0\n",
    "    elif cut_ub == 'None' and cut_lb != 'None':\n",
    "        prob_notcut = 1.0 - sts.lognorm.cdf(cut_lb, sigma, scale=np.exp(mu))\n",
    "    elif cut_ub != 'None' and cut_lb == 'None':\n",
    "        prob_notcut = sts.lognorm.cdf(cut_ub, sigma, scale=np.exp(mu))\n",
    "    elif cut_ub != 'None' and cut_lb != 'None':\n",
    "        prob_notcut = (sts.lognorm.cdf(cut_ub, sigma, scale=np.exp(mu)) -\n",
    "                       sts.lognorm.cdf(cut_lb, sigma, scale=np.exp(mu)))\n",
    "            \n",
    "    pdf_vals = ((1/(xvals * sigma * np.sqrt(2 * np.pi)) * np.exp(-(np.log(xvals) - mu)**2 / (2 * sigma**2))) / prob_notcut)\n",
    "    \n",
    "    return pdf_vals"
   ]
  },
  {
   "cell_type": "code",
   "execution_count": 41,
   "metadata": {},
   "outputs": [],
   "source": [
    "# Defines the mean and standard deviation of income to be the two moments\n",
    "def data_moments(xvals):\n",
    "\n",
    "    mean_data = xvals.mean()\n",
    "    std_data = xvals.std()\n",
    "    \n",
    "    return mean_data, std_data\n",
    "\n",
    "# Calculate the two model moments for GMM, mean and standard deviation\n",
    "def model_moments(mu, sigma, cut_lb, cut_ub):\n",
    "\n",
    "    xfx = lambda x: x * trunc_lognorm_pdf(x, mu, sigma, cut_lb, cut_ub)\n",
    "    (mean_model, m_m_err) = intgr.quad(xfx, cut_lb, cut_ub)\n",
    "    x2fx = lambda x: ((x - mean_model) ** 2) * trunc_lognorm_pdf(x, mu, sigma, cut_lb, cut_ub) \n",
    "    (var_model, v_m_err) = intgr.quad(x2fx, cut_lb, cut_ub)\n",
    "    \n",
    "    return mean_model, np.sqrt(var_model)\n",
    "\n",
    "# Calculate the vector of moment errors for GMM.\n",
    "def err_vec(xvals, mu, sigma, cut_lb, cut_ub, simple=True):\n",
    "   \n",
    "    mean_data, std_data = data_moments(xvals)\n",
    "    moms_data = np.array([[mean_data], [std_data]])\n",
    "    mean_model, std_model = model_moments(mu, sigma, cut_lb, cut_ub)\n",
    "    moms_model = np.array([[mean_model], [std_model]])\n",
    "    if simple:\n",
    "        err_vec = moms_model - moms_data\n",
    "    else:\n",
    "        err_vec = (moms_model - moms_data) / moms_data\n",
    "    \n",
    "    return err_vec\n",
    "\n",
    "# Calculate the GMM weighted sum of squared moment errors of given paramters\n",
    "def criterion(params, *args):\n",
    "    \n",
    "    mu, sigma = params\n",
    "    xvals, cut_lb, cut_ub, W = args\n",
    "    err = err_vec(xvals, mu, sigma, cut_lb, cut_ub, simple=False)\n",
    "    crit_val = err.T @ W @ err\n",
    "    \n",
    "    return crit_val"
   ]
  },
  {
   "cell_type": "code",
   "execution_count": 42,
   "metadata": {},
   "outputs": [
    {
     "data": {
      "text/plain": [
       "      fun: array([[6.39927135e-16]])\n",
       " hess_inv: <2x2 LbfgsInvHessProduct with dtype=float64>\n",
       "      jac: array([-1.14973880e-08, -2.93647111e-08])\n",
       "  message: b'CONVERGENCE: REL_REDUCTION_OF_F_<=_FACTR*EPSMCH'\n",
       "     nfev: 45\n",
       "      nit: 10\n",
       "   status: 0\n",
       "  success: True\n",
       "        x: array([11.33359961,  0.2132553 ])"
      ]
     },
     "execution_count": 42,
     "metadata": {},
     "output_type": "execute_result"
    }
   ],
   "source": [
    "mu_init = 11\n",
    "sig_init = 0.5\n",
    "params_init = np.array([mu_init, sig_init])\n",
    "W_hat = np.eye(2)\n",
    "gmm_args = (pts,1e-10, 150000, W_hat)\n",
    "results = opt.minimize(criterion, params_init, args=(gmm_args),tol=1e-14, method='L-BFGS-B',\n",
    "                       bounds=((1e-10, None), (1e-10, None)))\n",
    "mu_GMM1, sig_GMM1 = results.x\n",
    "val_crit1 = results.fun\n",
    "\n",
    "mean_data, std_data = data_moments(pts)\n",
    "mean_model, std_model = model_moments(mu_GMM1, sig_GMM1, 1e-10, 150000)\n",
    "err1 = err_vec(pts, mu_GMM1, sig_GMM1, 1e-10, 150000,False).reshape(2)\n",
    "\n",
    "results"
   ]
  },
  {
   "cell_type": "code",
   "execution_count": 43,
   "metadata": {},
   "outputs": [
    {
     "name": "stdout",
     "output_type": "stream",
     "text": [
      "Mu_GMM1 = 11.33359961340108, sigma_GMM1 = 0.21325529509280877\n",
      "The value of the GMM criterion function at the estimated parameter values is [[6.39927135e-16]]\n",
      "Mean of model = 85276.82405854971, standard deviation of model = 17992.541683009516\n",
      "Mean of data = 85276.82360625811, standard deviation of data = 17992.542128046523\n",
      "error of GMM = [ 5.30380448e-09 -2.47345263e-08]\n"
     ]
    },
    {
     "data": {
      "image/png": "[encoded data removed]",
      "text/plain": [
       "<Figure size 432x288 with 1 Axes>"
      ]
     },
     "metadata": {
      "needs_background": "light"
     },
     "output_type": "display_data"
    }
   ],
   "source": [
    "print('Mu_GMM1 = {}, sigma_GMM1 = {}'.format(mu_GMM1, sig_GMM1))\n",
    "print('The value of the GMM criterion function at the estimated parameter values is {}'.format(val_crit1))\n",
    "print('Mean of model = {}, standard deviation of model = {}'.format(mean_model, std_model))\n",
    "print('Mean of data = {}, standard deviation of data = {}'.format(mean_data, std_data))\n",
    "print('error of GMM =',err1)\n",
    "\n",
    "# Histogram of the data\n",
    "plt.hist(pts,num_bins,density=True,edgecolor = \"k\")\n",
    "\n",
    "# PDF of estimated GMM\n",
    "x = np.linspace(1e-10, 150000, 1000)\n",
    "y = trunc_lognorm_pdf(x, mu_GMM1, sig_GMM1,1e-10, 150000)\n",
    "plt.plot(x, y, linewidth=2,color='r',label= '$\\mu_{GMM1}$, $\\sigma_{GMM1}$')\n",
    "plt.xlabel('Annual Incomes')\n",
    "plt.ylabel('Percent of Incomes')\n",
    "plt.title('Annual Incomes of MACSS 2018-2020 Graduates')\n",
    "plt.legend(loc='upper left')\n",
    "plt.show()"
   ]
  },
  {
   "cell_type": "markdown",
   "metadata": {},
   "source": [
    "## c)"
   ]
  },
  {
   "cell_type": "code",
   "execution_count": 44,
   "metadata": {},
   "outputs": [],
   "source": [
    "def get_Err_mat2(pts, mu, sigma, cut_lb, cut_ub, simple=False):\n",
    "    \n",
    "    R = 2\n",
    "    N = len(pts)\n",
    "    Err_mat = np.zeros((R, N))\n",
    "    mean_model, std_model = model_moments(mu, sigma, cut_lb, cut_ub)\n",
    "    if simple:\n",
    "        Err_mat[0, :] = pts - mean_model\n",
    "        Err_mat[1, :] = np.sqrt((mean_data - pts) ** 2) - std_model\n",
    "    else:\n",
    "        Err_mat[0, :] = (pts - mean_model) / mean_model\n",
    "        Err_mat[1, :] = (np.sqrt((mean_data - pts) ** 2) - std_model) / std_model\n",
    "    \n",
    "    return Err_mat"
   ]
  },
  {
   "cell_type": "code",
   "execution_count": 45,
   "metadata": {},
   "outputs": [
    {
     "name": "stdout",
     "output_type": "stream",
     "text": [
      "The variance covariance matrix:\n",
      " [[0.04451671 0.02724079]\n",
      " [0.02724079 0.40593057]]\n",
      "The two-step estimator for the optimal weighting matrix:\n",
      " [[23.42542598 -1.57201036]\n",
      " [-1.57201036  2.56896839]]\n"
     ]
    }
   ],
   "source": [
    "\n",
    "\n",
    "Err_mat = get_Err_mat2(pts, mu_GMM1, sig_GMM1, 1e-10, 150000, False)\n",
    "VCV2 = (1 / pts.shape[0]) * (Err_mat @ Err_mat.T)\n",
    "print(\"The variance covariance matrix:\\n\", VCV2)\n",
    "# I use the pseudo-inverse command here because the VCV matrix is poorly conditioned\n",
    "W_hat = lin.pinv(VCV2)\n",
    "print(\"The two-step estimator for \\\n",
    "the optimal weighting matrix:\\n\", W_hat)"
   ]
  },
  {
   "cell_type": "code",
   "execution_count": 46,
   "metadata": {},
   "outputs": [
    {
     "data": {
      "text/plain": [
       "      fun: array([[2.6431068e-15]])\n",
       " hess_inv: <2x2 LbfgsInvHessProduct with dtype=float64>\n",
       "      jac: array([ 4.19717242e-07, -1.25892773e-07])\n",
       "  message: b'CONVERGENCE: NORM_OF_PROJECTED_GRADIENT_<=_PGTOL'\n",
       "     nfev: 3\n",
       "      nit: 0\n",
       "   status: 0\n",
       "  success: True\n",
       "        x: array([11.33359961,  0.2132553 ])"
      ]
     },
     "execution_count": 46,
     "metadata": {},
     "output_type": "execute_result"
    }
   ],
   "source": [
    "params_init = np.array([mu_GMM1, sig_GMM1])\n",
    "gmm_args = (pts, 1e-10, 150000, W_hat)\n",
    "results2 = opt.minimize(criterion, params_init, args=(gmm_args),\n",
    "                       method='L-BFGS-B', bounds=((1e-10, None), (1e-10, None)))\n",
    "mu_GMM2, sig_GMM2 = results2.x\n",
    "val_crit2 = results2.fun\n",
    "mean_data, std_data = data_moments(pts)\n",
    "mean_model, std_model = model_moments(mu_GMM2, sig_GMM2, 1e-10, 150000)\n",
    "err2 = err_vec(pts, mu_GMM2, sig_GMM2, 1e-10, 150000,False).reshape(2)\n",
    "\n",
    "results2"
   ]
  },
  {
   "cell_type": "code",
   "execution_count": 47,
   "metadata": {},
   "outputs": [
    {
     "name": "stdout",
     "output_type": "stream",
     "text": [
      "Mu_GMM2 = 11.33359961340108, sigma_GMM2 = 0.21325529509280877\n",
      "The value of the GMM criterion function at the estimated parameter values is [[2.6431068e-15]]\n",
      "Mean of model = 85276.82405854971, standard deviation of model = 17992.541683009516\n",
      "Mean of data = 85276.82360625811, standard deviation of data = 17992.542128046523\n",
      "error of GMM = [ 5.30380448e-09 -2.47345263e-08]\n"
     ]
    },
    {
     "data": {
      "image/png": "[encoded data removed]",
      "text/plain": [
       "<Figure size 432x288 with 1 Axes>"
      ]
     },
     "metadata": {
      "needs_background": "light"
     },
     "output_type": "display_data"
    }
   ],
   "source": [
    "print('Mu_GMM2 = {}, sigma_GMM2 = {}'.format(mu_GMM2, sig_GMM2))\n",
    "print('The value of the GMM criterion function at the estimated parameter values is {}'.format(val_crit2))\n",
    "print('Mean of model = {}, standard deviation of model = {}'.format(mean_model, std_model))\n",
    "print('Mean of data = {}, standard deviation of data = {}'.format(mean_data, std_data))\n",
    "print('error of GMM =',err2)\n",
    "\n",
    "# Histogram of the data\n",
    "plt.hist(pts,num_bins,density=True,edgecolor = \"k\")\n",
    "\n",
    "# PDF of estimated GMM\n",
    "x = np.linspace(1e-10, 150000, 1000)\n",
    "y = trunc_lognorm_pdf(x, mu_GMM2, sig_GMM2,1e-10, 150000)\n",
    "plt.plot(x, y, linewidth=2,color='r',label= '$\\mu_{GMM2}$, $\\sigma_{GMM2}$')\n",
    "plt.xlabel('Annual Incomes')\n",
    "plt.ylabel('Percent of Incomes')\n",
    "plt.title('Annual Incomes of MACSS 2018-2020 Graduates')\n",
    "plt.legend(loc='upper left')\n",
    "plt.show()"
   ]
  },
  {
   "cell_type": "markdown",
   "metadata": {},
   "source": [
    "## d)"
   ]
  },
  {
   "cell_type": "code",
   "execution_count": 48,
   "metadata": {},
   "outputs": [
    {
     "data": {
      "text/plain": [
       "      fun: array([[1.82839354e-15]])\n",
       " hess_inv: <2x2 LbfgsInvHessProduct with dtype=float64>\n",
       "      jac: array([1.72507540e-07, 7.61449882e-09])\n",
       "  message: b'CONVERGENCE: REL_REDUCTION_OF_F_<=_FACTR*EPSMCH'\n",
       "     nfev: 147\n",
       "      nit: 22\n",
       "   status: 0\n",
       "  success: True\n",
       "        x: array([11.33670518,  0.21151352])"
      ]
     },
     "execution_count": 48,
     "metadata": {},
     "output_type": "execute_result"
    }
   ],
   "source": [
    "def data_moments3(xvals):\n",
    "    bpct_1_dat = xvals[xvals < 75000].shape[0] / xvals.shape[0]\n",
    "    bpct_2_dat = (xvals[(xvals >=75000) & (xvals<=100000)].shape[0] /\n",
    "                  xvals.shape[0])\n",
    "    bpct_3_dat = xvals[xvals>100000].shape[0] / xvals.shape[0]\n",
    "    return bpct_1_dat, bpct_2_dat, bpct_3_dat\n",
    "\n",
    "def model_moments3(mu, sigma, cut_lb, cut_ub):\n",
    "    xfx = lambda x: trunc_lognorm_pdf(x, mu, sigma, cut_lb, cut_ub)\n",
    "    (bpct_1_mod, bp_1_err) = intgr.quad(xfx, 1e-10, 75000)\n",
    "    (bpct_2_mod, bp_2_err) = intgr.quad(xfx, 75000, 100000)\n",
    "    (bpct_3_mod, bp_3_err) = intgr.quad(xfx, 100000, 150000)\n",
    "    return bpct_1_mod, bpct_2_mod, bpct_3_mod\n",
    "\n",
    "def err_vec3(xvals, mu, sigma, cut_lb, cut_ub, simple):\n",
    "    \n",
    "    bpct_1_dat, bpct_2_dat, bpct_3_dat = data_moments3(xvals)\n",
    "    moms_data = np.array([[bpct_1_dat], [bpct_2_dat], [bpct_3_dat]])\n",
    "    bpct_1_mod, bpct_2_mod, bpct_3_mod = model_moments3(mu, sigma,cut_lb, cut_ub)\n",
    "    moms_model = np.array([[bpct_1_mod], [bpct_2_mod], [bpct_3_mod]])\n",
    "    if simple:\n",
    "        err_vec = moms_model - moms_data\n",
    "    else:\n",
    "        err_vec = (moms_model - moms_data) / moms_data\n",
    "    \n",
    "    return err_vec\n",
    "\n",
    "\n",
    "def criterion3(params, *args):\n",
    "    mu, sigma = params\n",
    "    xvals, cut_lb, cut_ub, W = args\n",
    "    err = err_vec3(xvals, mu, sigma, cut_lb, cut_ub, simple=False)\n",
    "    crit_val = err.T @ W @ err \n",
    "    return crit_val\n",
    "\n",
    "\n",
    "mu_init = 11\n",
    "sig_init = 0.5\n",
    "params_init = np.array([mu_init, sig_init])\n",
    "W_hat1_3 = np.eye(3)\n",
    "gmm_args = (pts, 1e-10, 150000, W_hat1_3)\n",
    "results3 = opt.minimize(criterion3, params_init, args=(gmm_args),tol=1e-14, \n",
    "                         method='L-BFGS-B', bounds=((1e-10, None), (1e-10, None)))\n",
    "mu_GMM3, sig_GMM3 = results3.x\n",
    "val_crit3 = results3.fun\n",
    "bpct_1_dat, bpct_2_dat, bpct_3_dat = data_moments3(pts)\n",
    "pert1, pert2, pert3 = model_moments3(mu_GMM3, sig_GMM3, 1e-10, 150000)\n",
    "err3 = err_vec3(pts, mu_GMM3, sig_GMM3, 1e-10, 150000,False).reshape(3)\n",
    "\n",
    "results3"
   ]
  },
  {
   "cell_type": "code",
   "execution_count": 49,
   "metadata": {},
   "outputs": [
    {
     "name": "stdout",
     "output_type": "stream",
     "text": [
      "Mu_GMM3 = 11.33670518110009, sigma_GMM3 = 0.2115135158429933\n",
      "The value of the GMM criterion function at the estimated parameter values is [[1.82839354e-15]]\n",
      "error of GMM = [ 4.17272568e-09  1.36228635e-08 -4.03162435e-08]\n",
      "                      Data Moments  Model Momets\n",
      "Percent <75000                 0.3           0.3\n",
      "Percent 75000~100000           0.5           0.5\n",
      "Percent >=100000               0.2           0.2\n"
     ]
    },
    {
     "data": {
      "image/png": "[encoded data removed]",
      "text/plain": [
       "<Figure size 432x288 with 1 Axes>"
      ]
     },
     "metadata": {
      "needs_background": "light"
     },
     "output_type": "display_data"
    }
   ],
   "source": [
    "print('Mu_GMM3 = {}, sigma_GMM3 = {}'.format(mu_GMM3, sig_GMM3))\n",
    "print('The value of the GMM criterion function at the estimated parameter values is {}'.format(val_crit3))\n",
    "print('error of GMM =',err3)\n",
    "\n",
    "matrix=pd.DataFrame({'Data Moments':[bpct_1_dat, bpct_2_dat, bpct_3_dat],\n",
    "                'Model Momets':[pert1, pert2, pert3]},\n",
    "                index=['Percent <75000','Percent 75000~100000','Percent >=100000'])\n",
    "print(matrix)\n",
    "\n",
    "# Histogram of the data\n",
    "plt.hist(pts,num_bins,density=True,edgecolor = \"k\")\n",
    "\n",
    "# PDF of estimated GMM\n",
    "x = np.linspace(1e-10, 150000, 1000)\n",
    "y = trunc_lognorm_pdf(x, mu_GMM3, sig_GMM3,1e-10, 150000)\n",
    "plt.plot(x, y, linewidth=2,color='r',label= '$\\mu_{GMM3}$, $\\sigma_{GMM3}$')\n",
    "plt.xlabel('Annual Incomes')\n",
    "plt.ylabel('Percent of Incomes')\n",
    "plt.title('Annual Incomes of MACSS 2018-2020 Graduates')\n",
    "plt.legend(loc='upper left')\n",
    "plt.show()"
   ]
  },
  {
   "cell_type": "markdown",
   "metadata": {},
   "source": [
    "## e)"
   ]
  },
  {
   "cell_type": "code",
   "execution_count": 50,
   "metadata": {},
   "outputs": [
    {
     "name": "stdout",
     "output_type": "stream",
     "text": [
      "The variance covariance matrix:\n",
      " [[ 2.33333331 -0.99999998 -1.00000004]\n",
      " [-0.99999998  0.99999997 -1.00000003]\n",
      " [-1.00000004 -1.00000003  4.00000032]]\n",
      "The two-step estimator for the optimal weighting matrix:\n",
      " [[ 0.25761773 -0.14958449 -0.01246537]\n",
      " [-0.14958449  0.11911357 -0.0734072 ]\n",
      " [-0.01246537 -0.0734072   0.20221605]]\n"
     ]
    }
   ],
   "source": [
    "def get_Err_mat3(pts, mu, sigma, cut_lb, cut_ub, simple=False):\n",
    "    R = 3\n",
    "    N = len(pts)\n",
    "    Err_mat = np.zeros((R, N))\n",
    "    pct_1_mod, pct_2_mod, pct_3_mod = model_moments3(mu, sigma, cut_lb, cut_ub)\n",
    "    if simple:\n",
    "        pts_in_grp1 = pts < 75000\n",
    "        Err_mat[0, :] = pts_in_grp1 - pct_1_mod\n",
    "        pts_in_grp2 = (pts >= 75000) & (pts <= 100000)\n",
    "        Err_mat[1, :] = pts_in_grp2 - pct_2_mod\n",
    "        pts_in_grp3 = pts > 100000\n",
    "        Err_mat[2, :] = pts_in_grp3 - pct_3_mod\n",
    "    else:\n",
    "        pts_in_grp1 = pts < 75000\n",
    "        Err_mat[0, :] = (pts_in_grp1 - pct_1_mod) / pct_1_mod\n",
    "        pts_in_grp2 = (pts >= 75000) & (pts <= 100000)\n",
    "        Err_mat[1, :] = (pts_in_grp2 - pct_2_mod) / pct_2_mod\n",
    "        pts_in_grp3 = pts > 100000\n",
    "        Err_mat[2, :] = (pts_in_grp3 - pct_3_mod) / pct_3_mod\n",
    "    return Err_mat\n",
    "\n",
    "Err_mat3 = get_Err_mat3(pts, mu_GMM3, sig_GMM3, 1e-10, 150000, False)\n",
    "VCV2_3 = (1 / pts.shape[0]) * (Err_mat3 @ Err_mat3.T)\n",
    "print(\"The variance covariance matrix:\\n\", VCV2_3)\n",
    "# I use the pseudo-inverse command here because the VCV matrix is poorly conditioned\n",
    "W_hat2_3 = lin.pinv(VCV2_3)\n",
    "print(\"The two-step estimator for \\\n",
    "the optimal weighting matrix:\\n\", W_hat2_3)"
   ]
  },
  {
   "cell_type": "code",
   "execution_count": 51,
   "metadata": {},
   "outputs": [
    {
     "data": {
      "text/plain": [
       "      fun: array([[8.00625276e-16]])\n",
       " hess_inv: <2x2 LbfgsInvHessProduct with dtype=float64>\n",
       "      jac: array([2.65814477e-11, 1.00337868e-11])\n",
       "  message: b'CONVERGENCE: REL_REDUCTION_OF_F_<=_FACTR*EPSMCH'\n",
       "     nfev: 90\n",
       "      nit: 19\n",
       "   status: 0\n",
       "  success: True\n",
       "        x: array([11.33670518,  0.21151352])"
      ]
     },
     "execution_count": 51,
     "metadata": {},
     "output_type": "execute_result"
    }
   ],
   "source": [
    "mu_init = 11\n",
    "sig_init = 0.5\n",
    "params_init = np.array([mu_init, sig_init])\n",
    "gmm_args = (pts, 1e-10, 150000, W_hat2_3)\n",
    "results4 = opt.minimize(criterion3, params_init, args=(gmm_args),tol=1e-14,\n",
    "                          method='L-BFGS-B', bounds=((1e-10, None), (1e-2, None)))\n",
    "mu_GMM4, sig_GMM4 = results4.x\n",
    "params = np.array([mu_GMM4, sig_GMM4])\n",
    "val_crit4 = results4.fun\n",
    "bpct_1_dat, bpct_2_dat, bpct_3_dat = data_moments3(pts)\n",
    "pert1, pert2, pert3 = model_moments3(mu_GMM4, sig_GMM4,1e-10, 150000)\n",
    "err4 = err_vec3(pts, mu_GMM4, sig_GMM4, 1e-10, 150000, False).reshape(1,3)\n",
    "results4"
   ]
  },
  {
   "cell_type": "code",
   "execution_count": 52,
   "metadata": {},
   "outputs": [
    {
     "name": "stdout",
     "output_type": "stream",
     "text": [
      "Mu_GMM4 = 11.33670517923623, sigma_GMM4 = 0.211513515047493\n",
      "The value of the GMM criterion function at the estimated parameter values is [[8.00625276e-16]]\n",
      "error of GMM = [[ 1.19268828e-08  1.54472575e-08 -5.65084640e-08]]\n",
      "                      Data Moments  Model Moments\n",
      "Percent <75000                 0.3            0.3\n",
      "Percent 75000~100000           0.5            0.5\n",
      "Percent >=100000               0.2            0.2\n"
     ]
    }
   ],
   "source": [
    "print('Mu_GMM4 = {}, sigma_GMM4 = {}'.format(mu_GMM4, sig_GMM4))\n",
    "print('The value of the GMM criterion function at the estimated parameter values is {}'.format(val_crit4))\n",
    "print('error of GMM =',err4)\n",
    "mm=pd.DataFrame({'Data Moments':[bpct_1_dat, bpct_2_dat, bpct_3_dat],\n",
    "                'Model Moments':[pert1, pert2, pert3]},\n",
    "                index=['Percent <75000','Percent 75000~100000','Percent >=100000'])\n",
    "print(mm)\n"
   ]
  },
  {
   "cell_type": "code",
   "execution_count": 53,
   "metadata": {},
   "outputs": [
    {
     "data": {
      "image/png": "[encoded data removed]",
      "text/plain": [
       "<Figure size 432x288 with 1 Axes>"
      ]
     },
     "metadata": {
      "needs_background": "light"
     },
     "output_type": "display_data"
    }
   ],
   "source": [
    "num_bins = 30\n",
    "plt.hist(pts, num_bins, normed=True, edgecolor='k')\n",
    "plt.title('Annual Incomes of MACSS Graduates: 2018-2020', fontsize=15)\n",
    "plt.xlabel('Annual Income')\n",
    "plt.ylabel('Percent of Incomes')\n",
    "plt.xlim([1e-10, 150000])\n",
    "x = np.linspace(1e-10, 150000, 1000)\n",
    "# Plot the estimated GMM PDF using three moments with identity matrix\n",
    "y1 =trunc_lognorm_pdf(x, mu_GMM3, sig_GMM3,1e-10, 150000)\n",
    "y2 = trunc_lognorm_pdf(x, mu_GMM4, sig_GMM4,1e-10, 150000)\n",
    "plt.plot(x, y1, linewidth=2,color='y',label= '$\\mu_{GMM3}$, $\\sigma_{GMM3}$')\n",
    "plt.plot(x, y2, linewidth=2,color='r',label= '$\\mu_{GMM4}$, $\\sigma_{GMM4}$')\n",
    "plt.xlabel('Annual Incomes')\n",
    "plt.ylabel('Percent of Incomes')\n",
    "plt.title('Annual Incomes of MACSS 2018-2020 Graduates')\n",
    "plt.legend(loc='upper left')\n",
    "plt.show()"
   ]
  },
  {
   "cell_type": "markdown",
   "metadata": {},
   "source": [
    "## f)"
   ]
  },
  {
   "cell_type": "code",
   "execution_count": 54,
   "metadata": {},
   "outputs": [],
   "source": [
    "mu=[mu_GMM1,mu_GMM2,mu_GMM3,mu_GMM4]\n",
    "sig=[sig_GMM1,sig_GMM2,sig_GMM3,sig_GMM4]\n",
    "GMMV=[results.fun,results2.fun,results3.fun,results4.fun]"
   ]
  },
  {
   "cell_type": "code",
   "execution_count": 55,
   "metadata": {},
   "outputs": [
    {
     "data": {
      "text/html": [
       "<div>\n",
       "<style scoped>\n",
       "    .dataframe tbody tr th:only-of-type {\n",
       "        vertical-align: middle;\n",
       "    }\n",
       "\n",
       "    .dataframe tbody tr th {\n",
       "        vertical-align: top;\n",
       "    }\n",
       "\n",
       "    .dataframe thead th {\n",
       "        text-align: right;\n",
       "    }\n",
       "</style>\n",
       "<table border=\"1\" class=\"dataframe\">\n",
       "  <thead>\n",
       "    <tr style=\"text-align: right;\">\n",
       "      <th></th>\n",
       "      <th>mu</th>\n",
       "      <th>sigma</th>\n",
       "      <th>GMM Fn Value</th>\n",
       "    </tr>\n",
       "  </thead>\n",
       "  <tbody>\n",
       "    <tr>\n",
       "      <td>2 moments with Identity Matrix</td>\n",
       "      <td>11.333600</td>\n",
       "      <td>0.213255</td>\n",
       "      <td>6.399271e-16</td>\n",
       "    </tr>\n",
       "    <tr>\n",
       "      <td>2 moments with Weighted Matrix</td>\n",
       "      <td>11.333600</td>\n",
       "      <td>0.213255</td>\n",
       "      <td>2.643107e-15</td>\n",
       "    </tr>\n",
       "    <tr>\n",
       "      <td>3 moments with Identity Matrix</td>\n",
       "      <td>11.336705</td>\n",
       "      <td>0.211514</td>\n",
       "      <td>1.828394e-15</td>\n",
       "    </tr>\n",
       "    <tr>\n",
       "      <td>3 moments with Weighted Matrix</td>\n",
       "      <td>11.336705</td>\n",
       "      <td>0.211514</td>\n",
       "      <td>8.006253e-16</td>\n",
       "    </tr>\n",
       "  </tbody>\n",
       "</table>\n",
       "</div>"
      ],
      "text/plain": [
       "                                       mu     sigma  GMM Fn Value\n",
       "2 moments with Identity Matrix  11.333600  0.213255  6.399271e-16\n",
       "2 moments with Weighted Matrix  11.333600  0.213255  2.643107e-15\n",
       "3 moments with Identity Matrix  11.336705  0.211514  1.828394e-15\n",
       "3 moments with Weighted Matrix  11.336705  0.211514  8.006253e-16"
      ]
     },
     "execution_count": 55,
     "metadata": {},
     "output_type": "execute_result"
    }
   ],
   "source": [
    "pd.DataFrame({\"mu\":mu,\"sigma\":sig,\"GMM Fn Value\":GMMV},\n",
    "            index=['2 moments with Identity Matrix','2 moments with Weighted Matrix',\n",
    "                   '3 moments with Identity Matrix','3 moments with Weighted Matrix']).astype(float)"
   ]
  },
  {
   "cell_type": "markdown",
   "metadata": {},
   "source": [
    "By comparing the criterion function value, the 2 moments with identity matrix fit the data most."
   ]
  },
  {
   "cell_type": "markdown",
   "metadata": {},
   "source": [
    "## Question 2"
   ]
  },
  {
   "cell_type": "code",
   "execution_count": 56,
   "metadata": {},
   "outputs": [
    {
     "data": {
      "text/html": [
       "<div>\n",
       "<style scoped>\n",
       "    .dataframe tbody tr th:only-of-type {\n",
       "        vertical-align: middle;\n",
       "    }\n",
       "\n",
       "    .dataframe tbody tr th {\n",
       "        vertical-align: top;\n",
       "    }\n",
       "\n",
       "    .dataframe thead th {\n",
       "        text-align: right;\n",
       "    }\n",
       "</style>\n",
       "<table border=\"1\" class=\"dataframe\">\n",
       "  <thead>\n",
       "    <tr style=\"text-align: right;\">\n",
       "      <th></th>\n",
       "      <th>sick</th>\n",
       "      <th>age</th>\n",
       "      <th>children</th>\n",
       "      <th>avgtemp_winter</th>\n",
       "    </tr>\n",
       "  </thead>\n",
       "  <tbody>\n",
       "    <tr>\n",
       "      <td>0</td>\n",
       "      <td>1.67</td>\n",
       "      <td>57.47</td>\n",
       "      <td>3.04</td>\n",
       "      <td>54.10</td>\n",
       "    </tr>\n",
       "    <tr>\n",
       "      <td>1</td>\n",
       "      <td>0.71</td>\n",
       "      <td>26.77</td>\n",
       "      <td>1.20</td>\n",
       "      <td>36.54</td>\n",
       "    </tr>\n",
       "    <tr>\n",
       "      <td>2</td>\n",
       "      <td>1.39</td>\n",
       "      <td>41.85</td>\n",
       "      <td>2.31</td>\n",
       "      <td>32.38</td>\n",
       "    </tr>\n",
       "    <tr>\n",
       "      <td>3</td>\n",
       "      <td>1.37</td>\n",
       "      <td>51.27</td>\n",
       "      <td>2.46</td>\n",
       "      <td>52.94</td>\n",
       "    </tr>\n",
       "    <tr>\n",
       "      <td>4</td>\n",
       "      <td>1.45</td>\n",
       "      <td>44.22</td>\n",
       "      <td>2.72</td>\n",
       "      <td>45.90</td>\n",
       "    </tr>\n",
       "  </tbody>\n",
       "</table>\n",
       "</div>"
      ],
      "text/plain": [
       "   sick    age  children  avgtemp_winter\n",
       "0  1.67  57.47      3.04           54.10\n",
       "1  0.71  26.77      1.20           36.54\n",
       "2  1.39  41.85      2.31           32.38\n",
       "3  1.37  51.27      2.46           52.94\n",
       "4  1.45  44.22      2.72           45.90"
      ]
     },
     "execution_count": 56,
     "metadata": {},
     "output_type": "execute_result"
    }
   ],
   "source": [
    "df2 = pd.read_csv('data/sick.txt',sep=',', skiprows = 1, names=[\"sick\",\"age\",\"children\",\"avgtemp_winter\"])\n",
    "df2.head()"
   ]
  },
  {
   "cell_type": "code",
   "execution_count": 57,
   "metadata": {},
   "outputs": [],
   "source": [
    "def err_vec(y,x1,x2,x3,beta0,beta1,beta2,beta3,simple=True):\n",
    "    betaX = beta0 + beta1*x1 + beta2*x2 + beta3*x3\n",
    "    if simple:\n",
    "        return betaX - y\n",
    "    else:\n",
    "        return (betaX-y)/y\n",
    "def criterion(params,*args):\n",
    "    beta0,beta1,beta2,beta3 = params\n",
    "    y,x1,x2,x3,W = args\n",
    "    err = err_vec(y,x1,x2,x3,beta0,beta1,beta2,beta3)\n",
    "    crit_val = err.T @ W @ err\n",
    "    return crit_val"
   ]
  },
  {
   "cell_type": "code",
   "execution_count": 58,
   "metadata": {},
   "outputs": [],
   "source": [
    "params_init = np.array([1,0,0,0])\n",
    "W_hat = np.eye(200)\n",
    "gmm_args = (df2.sick, df2.age, df2.children, df2.avgtemp_winter, W_hat)\n",
    "res = opt.minimize(criterion, params_init, args=(gmm_args), tol=1e-14,method='L-BFGS-B')\n",
    "val_crit = res.fun\n",
    "beta0, beta1, beta2, beta3 = res.x"
   ]
  },
  {
   "cell_type": "code",
   "execution_count": 59,
   "metadata": {},
   "outputs": [
    {
     "name": "stdout",
     "output_type": "stream",
     "text": [
      "Estimate of b0 : 0.2516448636180223\n",
      "Estimate of b1 : 0.012933469667256711\n",
      "Estimate of b2 : 0.40050098511048643\n",
      "Estimate of b3 : -0.009991708483433188\n",
      "GMM criterion function: 0.00182128980560192\n"
     ]
    }
   ],
   "source": [
    "print(\"Estimate of b0 :\",beta0)\n",
    "print(\"Estimate of b1 :\",beta1)\n",
    "print(\"Estimate of b2 :\",beta2)\n",
    "print(\"Estimate of b3 :\",beta3)\n",
    "print(\"GMM criterion function:\",val_crit)"
   ]
  },
  {
   "cell_type": "code",
   "execution_count": null,
   "metadata": {},
   "outputs": [],
   "source": []
  }
 ],
 "metadata": {
  "kernelspec": {
   "display_name": "Python 3",
   "language": "python",
   "name": "python3"
  },
  "language_info": {
   "codemirror_mode": {
    "name": "ipython",
    "version": 3
   },
   "file_extension": ".py",
   "mimetype": "text/x-python",
   "name": "python",
   "nbconvert_exporter": "python",
   "pygments_lexer": "ipython3",
   "version": "3.7.4"
  }
 },
 "nbformat": 4,
 "nbformat_minor": 2
}
