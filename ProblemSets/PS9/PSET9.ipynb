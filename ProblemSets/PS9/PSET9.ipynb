{
 "cells": [
  {
   "cell_type": "code",
   "execution_count": 1,
   "metadata": {},
   "outputs": [],
   "source": [
    "import pandas as pd\n",
    "import numpy as np\n",
    "from pandas.plotting import scatter_matrix\n",
    "from sklearn.linear_model import LogisticRegression\n",
    "from sklearn.model_selection import RandomizedSearchCV\n",
    "from scipy.stats import uniform as sp_uniform\n",
    "from scipy.stats import randint as sp_randint\n",
    "from sklearn.ensemble import RandomForestClassifier\n",
    "from sklearn.svm import SVC\n",
    "from scipy.stats import uniform as sp_uniform\n",
    "from sklearn.neural_network import MLPClassifier\n",
    "from sklearn.svm import SVC\n",
    "import seaborn as sns\n",
    "import matplotlib.pyplot as plt\n",
    "from sklearn.preprocessing import StandardScaler\n",
    "\n",
    "\n",
    "import warnings\n",
    "warnings.filterwarnings(\"ignore\")"
   ]
  },
  {
   "cell_type": "code",
   "execution_count": 2,
   "metadata": {},
   "outputs": [
    {
     "data": {
      "text/html": [
       "<div>\n",
       "<style scoped>\n",
       "    .dataframe tbody tr th:only-of-type {\n",
       "        vertical-align: middle;\n",
       "    }\n",
       "\n",
       "    .dataframe tbody tr th {\n",
       "        vertical-align: top;\n",
       "    }\n",
       "\n",
       "    .dataframe thead th {\n",
       "        text-align: right;\n",
       "    }\n",
       "</style>\n",
       "<table border=\"1\" class=\"dataframe\">\n",
       "  <thead>\n",
       "    <tr style=\"text-align: right;\">\n",
       "      <th></th>\n",
       "      <th>cultivar</th>\n",
       "      <th>alco</th>\n",
       "      <th>malic</th>\n",
       "      <th>ash</th>\n",
       "      <th>alk</th>\n",
       "      <th>magn</th>\n",
       "      <th>tot_phen</th>\n",
       "      <th>flav</th>\n",
       "      <th>nonfl_phen</th>\n",
       "      <th>proanth</th>\n",
       "      <th>color_int</th>\n",
       "      <th>hue</th>\n",
       "      <th>OD280rat</th>\n",
       "      <th>proline</th>\n",
       "    </tr>\n",
       "  </thead>\n",
       "  <tbody>\n",
       "    <tr>\n",
       "      <td>0</td>\n",
       "      <td>1</td>\n",
       "      <td>14.23</td>\n",
       "      <td>1.71</td>\n",
       "      <td>2.43</td>\n",
       "      <td>15.6</td>\n",
       "      <td>127</td>\n",
       "      <td>2.80</td>\n",
       "      <td>3.06</td>\n",
       "      <td>0.28</td>\n",
       "      <td>2.29</td>\n",
       "      <td>5.64</td>\n",
       "      <td>1.04</td>\n",
       "      <td>3.92</td>\n",
       "      <td>1065</td>\n",
       "    </tr>\n",
       "    <tr>\n",
       "      <td>1</td>\n",
       "      <td>1</td>\n",
       "      <td>13.20</td>\n",
       "      <td>1.78</td>\n",
       "      <td>2.14</td>\n",
       "      <td>11.2</td>\n",
       "      <td>100</td>\n",
       "      <td>2.65</td>\n",
       "      <td>2.76</td>\n",
       "      <td>0.26</td>\n",
       "      <td>1.28</td>\n",
       "      <td>4.38</td>\n",
       "      <td>1.05</td>\n",
       "      <td>3.40</td>\n",
       "      <td>1050</td>\n",
       "    </tr>\n",
       "    <tr>\n",
       "      <td>2</td>\n",
       "      <td>1</td>\n",
       "      <td>13.16</td>\n",
       "      <td>2.36</td>\n",
       "      <td>2.67</td>\n",
       "      <td>18.6</td>\n",
       "      <td>101</td>\n",
       "      <td>2.80</td>\n",
       "      <td>3.24</td>\n",
       "      <td>0.30</td>\n",
       "      <td>2.81</td>\n",
       "      <td>5.68</td>\n",
       "      <td>1.03</td>\n",
       "      <td>3.17</td>\n",
       "      <td>1185</td>\n",
       "    </tr>\n",
       "    <tr>\n",
       "      <td>3</td>\n",
       "      <td>1</td>\n",
       "      <td>14.37</td>\n",
       "      <td>1.95</td>\n",
       "      <td>2.50</td>\n",
       "      <td>16.8</td>\n",
       "      <td>113</td>\n",
       "      <td>3.85</td>\n",
       "      <td>3.49</td>\n",
       "      <td>0.24</td>\n",
       "      <td>2.18</td>\n",
       "      <td>7.80</td>\n",
       "      <td>0.86</td>\n",
       "      <td>3.45</td>\n",
       "      <td>1480</td>\n",
       "    </tr>\n",
       "    <tr>\n",
       "      <td>4</td>\n",
       "      <td>1</td>\n",
       "      <td>13.24</td>\n",
       "      <td>2.59</td>\n",
       "      <td>2.87</td>\n",
       "      <td>21.0</td>\n",
       "      <td>118</td>\n",
       "      <td>2.80</td>\n",
       "      <td>2.69</td>\n",
       "      <td>0.39</td>\n",
       "      <td>1.82</td>\n",
       "      <td>4.32</td>\n",
       "      <td>1.04</td>\n",
       "      <td>2.93</td>\n",
       "      <td>735</td>\n",
       "    </tr>\n",
       "  </tbody>\n",
       "</table>\n",
       "</div>"
      ],
      "text/plain": [
       "   cultivar   alco  malic   ash   alk  magn  tot_phen  flav  nonfl_phen  \\\n",
       "0         1  14.23   1.71  2.43  15.6   127      2.80  3.06        0.28   \n",
       "1         1  13.20   1.78  2.14  11.2   100      2.65  2.76        0.26   \n",
       "2         1  13.16   2.36  2.67  18.6   101      2.80  3.24        0.30   \n",
       "3         1  14.37   1.95  2.50  16.8   113      3.85  3.49        0.24   \n",
       "4         1  13.24   2.59  2.87  21.0   118      2.80  2.69        0.39   \n",
       "\n",
       "   proanth  color_int   hue  OD280rat  proline  \n",
       "0     2.29       5.64  1.04      3.92     1065  \n",
       "1     1.28       4.38  1.05      3.40     1050  \n",
       "2     2.81       5.68  1.03      3.17     1185  \n",
       "3     2.18       7.80  0.86      3.45     1480  \n",
       "4     1.82       4.32  1.04      2.93      735  "
      ]
     },
     "execution_count": 2,
     "metadata": {},
     "output_type": "execute_result"
    }
   ],
   "source": [
    "df = pd.read_csv('data/strongdrink.txt',na_values = '?')\n",
    "df.head()"
   ]
  },
  {
   "cell_type": "code",
   "execution_count": 3,
   "metadata": {},
   "outputs": [
    {
     "data": {
      "text/html": [
       "<div>\n",
       "<style scoped>\n",
       "    .dataframe tbody tr th:only-of-type {\n",
       "        vertical-align: middle;\n",
       "    }\n",
       "\n",
       "    .dataframe tbody tr th {\n",
       "        vertical-align: top;\n",
       "    }\n",
       "\n",
       "    .dataframe thead th {\n",
       "        text-align: right;\n",
       "    }\n",
       "</style>\n",
       "<table border=\"1\" class=\"dataframe\">\n",
       "  <thead>\n",
       "    <tr style=\"text-align: right;\">\n",
       "      <th></th>\n",
       "      <th>cultivar</th>\n",
       "      <th>alco</th>\n",
       "      <th>malic</th>\n",
       "      <th>ash</th>\n",
       "      <th>alk</th>\n",
       "      <th>magn</th>\n",
       "      <th>tot_phen</th>\n",
       "      <th>flav</th>\n",
       "      <th>nonfl_phen</th>\n",
       "      <th>proanth</th>\n",
       "      <th>color_int</th>\n",
       "      <th>hue</th>\n",
       "      <th>OD280rat</th>\n",
       "      <th>proline</th>\n",
       "    </tr>\n",
       "  </thead>\n",
       "  <tbody>\n",
       "    <tr>\n",
       "      <td>count</td>\n",
       "      <td>176.000000</td>\n",
       "      <td>176.000000</td>\n",
       "      <td>176.000000</td>\n",
       "      <td>176.000000</td>\n",
       "      <td>176.000000</td>\n",
       "      <td>176.000000</td>\n",
       "      <td>176.000000</td>\n",
       "      <td>176.000000</td>\n",
       "      <td>176.000000</td>\n",
       "      <td>176.000000</td>\n",
       "      <td>176.000000</td>\n",
       "      <td>176.000000</td>\n",
       "      <td>176.000000</td>\n",
       "      <td>176.000000</td>\n",
       "    </tr>\n",
       "    <tr>\n",
       "      <td>mean</td>\n",
       "      <td>1.926136</td>\n",
       "      <td>13.006534</td>\n",
       "      <td>2.327159</td>\n",
       "      <td>2.367386</td>\n",
       "      <td>19.492045</td>\n",
       "      <td>99.840909</td>\n",
       "      <td>2.298920</td>\n",
       "      <td>2.043352</td>\n",
       "      <td>0.359545</td>\n",
       "      <td>1.597727</td>\n",
       "      <td>5.031761</td>\n",
       "      <td>0.961000</td>\n",
       "      <td>2.623409</td>\n",
       "      <td>748.477273</td>\n",
       "    </tr>\n",
       "    <tr>\n",
       "      <td>std</td>\n",
       "      <td>0.771047</td>\n",
       "      <td>0.814431</td>\n",
       "      <td>1.117747</td>\n",
       "      <td>0.275617</td>\n",
       "      <td>3.355821</td>\n",
       "      <td>14.329499</td>\n",
       "      <td>0.627333</td>\n",
       "      <td>0.995579</td>\n",
       "      <td>0.123046</td>\n",
       "      <td>0.571958</td>\n",
       "      <td>2.317965</td>\n",
       "      <td>0.227225</td>\n",
       "      <td>0.705369</td>\n",
       "      <td>316.208737</td>\n",
       "    </tr>\n",
       "    <tr>\n",
       "      <td>min</td>\n",
       "      <td>1.000000</td>\n",
       "      <td>11.030000</td>\n",
       "      <td>0.740000</td>\n",
       "      <td>1.360000</td>\n",
       "      <td>10.600000</td>\n",
       "      <td>70.000000</td>\n",
       "      <td>0.980000</td>\n",
       "      <td>0.340000</td>\n",
       "      <td>0.130000</td>\n",
       "      <td>0.410000</td>\n",
       "      <td>1.280000</td>\n",
       "      <td>0.480000</td>\n",
       "      <td>1.270000</td>\n",
       "      <td>278.000000</td>\n",
       "    </tr>\n",
       "    <tr>\n",
       "      <td>25%</td>\n",
       "      <td>1.000000</td>\n",
       "      <td>12.362500</td>\n",
       "      <td>1.597500</td>\n",
       "      <td>2.210000</td>\n",
       "      <td>17.175000</td>\n",
       "      <td>88.000000</td>\n",
       "      <td>1.747500</td>\n",
       "      <td>1.242500</td>\n",
       "      <td>0.267500</td>\n",
       "      <td>1.250000</td>\n",
       "      <td>3.200000</td>\n",
       "      <td>0.790000</td>\n",
       "      <td>1.990000</td>\n",
       "      <td>500.000000</td>\n",
       "    </tr>\n",
       "    <tr>\n",
       "      <td>50%</td>\n",
       "      <td>2.000000</td>\n",
       "      <td>13.050000</td>\n",
       "      <td>1.845000</td>\n",
       "      <td>2.360000</td>\n",
       "      <td>19.500000</td>\n",
       "      <td>98.000000</td>\n",
       "      <td>2.380000</td>\n",
       "      <td>2.155000</td>\n",
       "      <td>0.340000</td>\n",
       "      <td>1.560000</td>\n",
       "      <td>4.640000</td>\n",
       "      <td>0.975000</td>\n",
       "      <td>2.780000</td>\n",
       "      <td>673.500000</td>\n",
       "    </tr>\n",
       "    <tr>\n",
       "      <td>75%</td>\n",
       "      <td>3.000000</td>\n",
       "      <td>13.682500</td>\n",
       "      <td>3.047500</td>\n",
       "      <td>2.560000</td>\n",
       "      <td>21.500000</td>\n",
       "      <td>107.250000</td>\n",
       "      <td>2.800000</td>\n",
       "      <td>2.882500</td>\n",
       "      <td>0.430000</td>\n",
       "      <td>1.952500</td>\n",
       "      <td>6.147500</td>\n",
       "      <td>1.120000</td>\n",
       "      <td>3.172500</td>\n",
       "      <td>986.250000</td>\n",
       "    </tr>\n",
       "    <tr>\n",
       "      <td>max</td>\n",
       "      <td>3.000000</td>\n",
       "      <td>14.830000</td>\n",
       "      <td>5.800000</td>\n",
       "      <td>3.230000</td>\n",
       "      <td>30.000000</td>\n",
       "      <td>162.000000</td>\n",
       "      <td>3.880000</td>\n",
       "      <td>5.080000</td>\n",
       "      <td>0.660000</td>\n",
       "      <td>3.580000</td>\n",
       "      <td>13.000000</td>\n",
       "      <td>1.710000</td>\n",
       "      <td>4.000000</td>\n",
       "      <td>1680.000000</td>\n",
       "    </tr>\n",
       "  </tbody>\n",
       "</table>\n",
       "</div>"
      ],
      "text/plain": [
       "         cultivar        alco       malic         ash         alk        magn  \\\n",
       "count  176.000000  176.000000  176.000000  176.000000  176.000000  176.000000   \n",
       "mean     1.926136   13.006534    2.327159    2.367386   19.492045   99.840909   \n",
       "std      0.771047    0.814431    1.117747    0.275617    3.355821   14.329499   \n",
       "min      1.000000   11.030000    0.740000    1.360000   10.600000   70.000000   \n",
       "25%      1.000000   12.362500    1.597500    2.210000   17.175000   88.000000   \n",
       "50%      2.000000   13.050000    1.845000    2.360000   19.500000   98.000000   \n",
       "75%      3.000000   13.682500    3.047500    2.560000   21.500000  107.250000   \n",
       "max      3.000000   14.830000    5.800000    3.230000   30.000000  162.000000   \n",
       "\n",
       "         tot_phen        flav  nonfl_phen     proanth   color_int         hue  \\\n",
       "count  176.000000  176.000000  176.000000  176.000000  176.000000  176.000000   \n",
       "mean     2.298920    2.043352    0.359545    1.597727    5.031761    0.961000   \n",
       "std      0.627333    0.995579    0.123046    0.571958    2.317965    0.227225   \n",
       "min      0.980000    0.340000    0.130000    0.410000    1.280000    0.480000   \n",
       "25%      1.747500    1.242500    0.267500    1.250000    3.200000    0.790000   \n",
       "50%      2.380000    2.155000    0.340000    1.560000    4.640000    0.975000   \n",
       "75%      2.800000    2.882500    0.430000    1.952500    6.147500    1.120000   \n",
       "max      3.880000    5.080000    0.660000    3.580000   13.000000    1.710000   \n",
       "\n",
       "         OD280rat      proline  \n",
       "count  176.000000   176.000000  \n",
       "mean     2.623409   748.477273  \n",
       "std      0.705369   316.208737  \n",
       "min      1.270000   278.000000  \n",
       "25%      1.990000   500.000000  \n",
       "50%      2.780000   673.500000  \n",
       "75%      3.172500   986.250000  \n",
       "max      4.000000  1680.000000  "
      ]
     },
     "execution_count": 3,
     "metadata": {},
     "output_type": "execute_result"
    }
   ],
   "source": [
    "df.describe()"
   ]
  },
  {
   "cell_type": "markdown",
   "metadata": {},
   "source": [
    "# Question 1 "
   ]
  },
  {
   "cell_type": "markdown",
   "metadata": {},
   "source": [
    "## a)"
   ]
  },
  {
   "cell_type": "code",
   "execution_count": 4,
   "metadata": {},
   "outputs": [
    {
     "data": {
      "image/png": "[encoded data removed]",
      "text/plain": [
       "<Figure size 432x288 with 1 Axes>"
      ]
     },
     "metadata": {
      "needs_background": "light"
     },
     "output_type": "display_data"
    }
   ],
   "source": [
    "for i in range(1,4):\n",
    "    temp=df[df['cultivar']==i]\n",
    "    plt.scatter(temp['alco'],temp['color_int'],label='cultivar='+str(i))\n",
    "\n",
    "plt.legend()\n",
    "plt.xlabel(\"Alcohol\") \n",
    "plt.ylabel(\"Color Intensity\")\n",
    "plt.title(\"Alcohol and Color Intensity Scatter Plot by cultivar\")\n",
    "plt.show()"
   ]
  },
  {
   "cell_type": "markdown",
   "metadata": {},
   "source": [
    "## b) multinomial logistic model"
   ]
  },
  {
   "cell_type": "code",
   "execution_count": 5,
   "metadata": {},
   "outputs": [],
   "source": [
    "Xvars = df[['alco', 'malic', 'tot_phen', 'color_int']]\n",
    "yvars = df['cultivar']\n",
    "Xvars = StandardScaler().fit_transform(Xvars)"
   ]
  },
  {
   "cell_type": "code",
   "execution_count": 6,
   "metadata": {},
   "outputs": [
    {
     "name": "stdout",
     "output_type": "stream",
     "text": [
      "Best tuning parameters =  {'C': 1.8170437946794404, 'penalty': 'l2'}\n",
      "MSE of optimal results =  0.09571428571428572\n"
     ]
    }
   ],
   "source": [
    "mlm = LogisticRegression()\n",
    "\n",
    "param_dist1 = {'penalty': ['l1', 'l2'],\n",
    "               'C': sp_uniform(0.1, 10.0)}\n",
    "random_search1 = RandomizedSearchCV(mlm, param_distributions=param_dist1, \n",
    "                                    n_iter=200, n_jobs=-1, cv=5, random_state=25, \n",
    "                                    scoring='neg_mean_squared_error')\n",
    "result1 = random_search1.fit(Xvars, yvars)\n",
    "\n",
    "print('Best tuning parameters = ', result1.best_params_)\n",
    "print('MSE of optimal results = ', abs(result1.best_score_))"
   ]
  },
  {
   "cell_type": "markdown",
   "metadata": {},
   "source": [
    "## c) random forest model"
   ]
  },
  {
   "cell_type": "code",
   "execution_count": 7,
   "metadata": {},
   "outputs": [
    {
     "name": "stdout",
     "output_type": "stream",
     "text": [
      "Optimal tuning parameters:  {'max_depth': 2, 'max_features': 1, 'min_samples_leaf': 4, 'min_samples_split': 11, 'n_estimators': 200}\n",
      "MSE of the optimal results:  0.13587301587301587\n"
     ]
    }
   ],
   "source": [
    "param_dist2 = {'n_estimators': (10, 200),\n",
    "                'max_depth': (2, 4),\n",
    "                'min_samples_split': sp_randint(2, 20),\n",
    "                'min_samples_leaf': sp_randint(2, 20),\n",
    "                'max_features': sp_randint(1, 4)}\n",
    "\n",
    "rf = RandomForestClassifier(bootstrap=True, oob_score=True)\n",
    "random_search2 = RandomizedSearchCV(rf, param_distributions=param_dist2,\n",
    "                                    n_iter=200, n_jobs=-1, cv=5, random_state=25, \n",
    "                                    scoring='neg_mean_squared_error')\n",
    "result2 = random_search2.fit(Xvars, yvars)\n",
    "print('Optimal tuning parameters: ', result2.best_params_)\n",
    "print('MSE of the optimal results: ', abs(result2.best_score_))"
   ]
  },
  {
   "cell_type": "markdown",
   "metadata": {},
   "source": [
    "## d) SVC"
   ]
  },
  {
   "cell_type": "code",
   "execution_count": 8,
   "metadata": {},
   "outputs": [
    {
     "name": "stdout",
     "output_type": "stream",
     "text": [
      "Optimal tuning parameters:  {'C': 2.8883894070106906, 'gamma': 'auto', 'shrinking': False}\n",
      "MSE of the optimal results:  0.08952380952380953\n"
     ]
    }
   ],
   "source": [
    "param_dist3 = {'C': sp_uniform(loc=0.1, scale=10.0),\n",
    "                'gamma': ['scale', 'auto'],\n",
    "                'shrinking': [True, False]}\n",
    "svc = SVC(kernel='rbf')\n",
    "random_search3 = RandomizedSearchCV(svc, param_distributions=param_dist3,\n",
    "            http://localhost:8888/notebooks/PSET9.ipynb#                       n_iter=200, n_jobs=-1, cv=5, random_state=25, scoring='neg_mean_squared_error')\n",
    "result3 = random_search3.fit(Xvars, yvars)\n",
    "print('Optimal tuning parameters: ', result3.best_params_)\n",
    "print('MSE of the optimal results: ', abs(result3.best_score_))"
   ]
  },
  {
   "cell_type": "markdown",
   "metadata": {},
   "source": [
    "## e) neural network"
   ]
  },
  {
   "cell_type": "code",
   "execution_count": 9,
   "metadata": {},
   "outputs": [
    {
     "name": "stdout",
     "output_type": "stream",
     "text": [
      "Optimal tuning parameters:  {'activation': 'relu', 'alpha': 1.620781771162999, 'hidden_layer_sizes': 95}\n",
      "MSE of the optimal results:  0.0842857142857143\n"
     ]
    }
   ],
   "source": [
    "param_dist4 = {'hidden_layer_sizes': sp_randint(1, 100),\n",
    "                'activation': ['logistic', 'relu'],\n",
    "                'alpha': sp_uniform(0.1, 10.0)}\n",
    "\n",
    "mlp = MLPClassifier(solver='lbfgs',max_iter=500)\n",
    "random_search4 = RandomizedSearchCV(mlp, param_distributions=param_dist4,\n",
    "                                   n_iter=200, n_jobs=-1, cv=5, random_state=25, scoring='neg_mean_squared_error')\n",
    "result4 = random_search4.fit(Xvars, yvars)\n",
    "print('Optimal tuning parameters: ', result4.best_params_)\n",
    "print('MSE of the optimal results: ', abs(result4.best_score_))"
   ]
  },
  {
   "cell_type": "markdown",
   "metadata": {},
   "source": [
    "## f)"
   ]
  },
  {
   "cell_type": "code",
   "execution_count": 11,
   "metadata": {},
   "outputs": [
    {
     "name": "stdout",
     "output_type": "stream",
     "text": [
      "Logistic Regression's MSE is 0.09571428571428572.\n",
      "Random Forest's MSE is 0.13587301587301587.\n",
      "SVM's MSE is 0.08952380952380953.\n",
      "Neural Network's MSE is 0.0842857142857143.\n"
     ]
    }
   ],
   "source": [
    "methods = [\"Logistic Regression\", \"Random Forest\",\"SVM\",\"Neural Network\"]\n",
    "mse = [abs(result1.best_score_),abs(result2.best_score_),abs(result3.best_score_),abs(result4.best_score_)]\n",
    "for i in range(4):\n",
    "    print(\"{}\\'s MSE is {}.\".format(methods[i],mse[i]))"
   ]
  },
  {
   "cell_type": "markdown",
   "metadata": {},
   "source": [
    "Among logistic regression, random forest, SVM and nueral network, I think neural network is the best, since it induces the smallest mean squared error."
   ]
  },
  {
   "cell_type": "code",
   "execution_count": null,
   "metadata": {},
   "outputs": [],
   "source": []
  }
 ],
 "metadata": {
  "kernelspec": {
   "display_name": "Python 3",
   "language": "python",
   "name": "python3"
  },
  "language_info": {
   "codemirror_mode": {
    "name": "ipython",
    "version": 3
   },
   "file_extension": ".py",
   "mimetype": "text/x-python",
   "name": "python",
   "nbconvert_exporter": "python",
   "pygments_lexer": "ipython3",
   "version": "3.7.4"
  }
 },
 "nbformat": 4,
 "nbformat_minor": 2
}
